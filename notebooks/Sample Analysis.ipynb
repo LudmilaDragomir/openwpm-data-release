{
 "cells": [
  {
   "cell_type": "code",
   "execution_count": null,
   "metadata": {},
   "outputs": [],
   "source": [
    "import re\n",
    "import json\n",
    "import sqlite3\n",
    "import pandas as pd"
   ]
  },
  {
   "cell_type": "code",
   "execution_count": null,
   "metadata": {},
   "outputs": [],
   "source": [
    "# import some analysis utilities from https://github.com/englehardt/crawl_utils\n",
    "import sys\n",
    "sys.path.append('./crawl_utils/')\n",
    "import domain_utils as du\n",
    "import analysis_utils as au"
   ]
  },
  {
   "cell_type": "code",
   "execution_count": null,
   "metadata": {},
   "outputs": [],
   "source": [
    "DB_DIR = 'stateless_sample_crawl'\n",
    "DB = os.path.join(DB_DIR, 'stateless_sample.sqlite')\n",
    "LDB = os.path.join(DB_DIR, 'content.ldb')"
   ]
  },
  {
   "cell_type": "markdown",
   "metadata": {},
   "source": [
    "# HTTP Requests"
   ]
  },
  {
   "cell_type": "code",
   "execution_count": null,
   "metadata": {},
   "outputs": [],
   "source": [
    "# Load the data\n",
    "con = sqlite3.connect(DB)\n",
    "con.row_factory = sqlite3.Row\n",
    "cur = con.cursor()"
   ]
  },
  {
   "cell_type": "markdown",
   "metadata": {},
   "source": [
    "### Add some additional columns to help with analysis"
   ]
  },
  {
   "cell_type": "code",
   "execution_count": null,
   "metadata": {},
   "outputs": [],
   "source": [
    "# Add the public suffix + 1 of a bunch of the URL columns\n",
    "reqs['url_ps1'] = reqs['url'].apply(du.get_ps_plus_1)\n",
    "reqs['top_ps1'] = reqs['top_level_url'].apply(lambda x: du.get_ps_plus_1(x) if x is not None else None)\n",
    "reqs['loading_ps1'] = reqs['loading_href'].apply(lambda x: du.get_ps_plus_1(x) if x is not None else None)"
   ]
  },
  {
   "cell_type": "code",
   "execution_count": null,
   "metadata": {},
   "outputs": [],
   "source": [
    "# Parse some info out of the call stack\n",
    "reqs['stack_scripts'] = reqs['req_call_stack'].apply(au.get_script_urls_from_call_stack_as_set)\n",
    "reqs['stack_ps1s'] = reqs['stack_scripts'].apply(lambda x: set([du.get_ps_plus_1(y) for y in x]))"
   ]
  },
  {
   "cell_type": "code",
   "execution_count": null,
   "metadata": {},
   "outputs": [],
   "source": [
    "total_sites = reqs['top_level_url'].nunique()"
   ]
  },
  {
   "cell_type": "markdown",
   "metadata": {},
   "source": [
    "### How many sites is doubleclick.net loaded on?"
   ]
  },
  {
   "cell_type": "code",
   "execution_count": null,
   "metadata": {},
   "outputs": [],
   "source": [
    "reqs[reqs['url_ps1'] == 'doubleclick.net'].top_level_url.nunique() / float(total_sites)"
   ]
  },
  {
   "cell_type": "code",
   "execution_count": null,
   "metadata": {},
   "outputs": [],
   "source": [
    "reqs[reqs['url_ps1'] == 'google-analytics.com'].top_level_url.nunique() / float(total_sites)"
   ]
  },
  {
   "cell_type": "markdown",
   "metadata": {},
   "source": [
    "### What domains does doubleclick.net load other resources from?"
   ]
  },
  {
   "cell_type": "code",
   "execution_count": null,
   "metadata": {},
   "outputs": [],
   "source": [
    "reqs[\n",
    "    reqs.req_call_stack != ''\n",
    "]['req_call_stack'].iloc[0]"
   ]
  },
  {
   "cell_type": "code",
   "execution_count": null,
   "metadata": {
    "scrolled": true
   },
   "outputs": [],
   "source": [
    "reqs[\n",
    "    reqs.req_call_stack.apply(lambda x: len(x) > 0)\n",
    "]['stack_ps1s']"
   ]
  },
  {
   "cell_type": "code",
   "execution_count": null,
   "metadata": {
    "scrolled": true
   },
   "outputs": [],
   "source": [
    "reqs[\n",
    "    reqs.stack_ps1s.apply(lambda x: 'doubleclick.net' in x)\n",
    "].groupby('url_ps1').top_level_url.count().sort_values(ascending=False)"
   ]
  },
  {
   "cell_type": "markdown",
   "metadata": {},
   "source": [
    "# Javascript Calls"
   ]
  },
  {
   "cell_type": "code",
   "execution_count": null,
   "metadata": {},
   "outputs": [],
   "source": [
    "# Load the data\n",
    "table_name = 'javascript'\n",
    "js = pq.ParquetDataset(\n",
    "    BUCKET_URI % table_name,\n",
    "    filesystem=fs,\n",
    "    metadata_nthreads=4\n",
    ").read_pandas().to_pandas()"
   ]
  },
  {
   "cell_type": "code",
   "execution_count": null,
   "metadata": {},
   "outputs": [],
   "source": [
    "# Add the public suffix + 1 of a bunch of the URL columns\n",
    "js['script_ps1'] = js['script_url'].apply(lambda x: du.get_ps_plus_1(x) if x is not None else None)\n",
    "js['top_ps1'] = js['top_level_url'].apply(lambda x: du.get_ps_plus_1(x) if x is not None else None)\n",
    "js['document_ps1'] = js['document_url'].apply(lambda x: du.get_ps_plus_1(x) if x is not None else None)"
   ]
  },
  {
   "cell_type": "markdown",
   "metadata": {},
   "source": [
    "#### Canvas font fingerprinting\n",
    "\n",
    "Filter JS calls and inspect for the use of canvas font fingerprinting"
   ]
  },
  {
   "cell_type": "code",
   "execution_count": null,
   "metadata": {},
   "outputs": [],
   "source": [
    "font_shorthand = re.compile(r\"^\\s*(?=(?:(?:[-a-z]+\\s*){0,2}(italic|oblique))?)(?=(?:(?:[-a-z]+\\s*){0,2}(small-caps))?)(?=(?:(?:[-a-z]+\\s*){0,2}(bold(?:er)?|lighter|[1-9]00))?)(?:(?:normal|\\1|\\2|\\3)\\s*){0,3}((?:xx?-)?(?:small|large)|medium|smaller|larger|[.\\d]+(?:\\%|in|[cem]m|ex|p[ctx]))(?:\\s*\\/\\s*(normal|[.\\d]+(?:\\%|in|[cem]m|ex|p[ctx])))?\\s*([-_\\{\\}\\(\\)\\&!\\',\\*\\.\\\"\\sa-zA-Z0-9]+?)\\s*$\")"
   ]
  },
  {
   "cell_type": "code",
   "execution_count": null,
   "metadata": {},
   "outputs": [],
   "source": [
    "# Grab all of the canvas calls\n",
    "js[\n",
    "    js.symbol.str.startswith('CanvasRenderingContext2D')\n",
    "]"
   ]
  },
  {
   "cell_type": "code",
   "execution_count": null,
   "metadata": {
    "scrolled": true
   },
   "outputs": [],
   "source": [
    "js[\n",
    "    (js.symbol == 'CanvasRenderingContext2D.measureText') &\n",
    "    (js.script_ps1 != js.top_ps1)\n",
    "].groupby('script_ps1').top_ps1.count().sort_values(ascending=False)"
   ]
  },
  {
   "cell_type": "code",
   "execution_count": null,
   "metadata": {},
   "outputs": [],
   "source": [
    "js[\n",
    "    (js.symbol == 'CanvasRenderingContext2D.measureText') &\n",
    "    (js.script_ps1 != js.top_ps1) & \n",
    "    (js.script_ps1 == 'admicro.vn')\n",
    "].arguments.apply(lambda x: json.loads(x)[\"0\"]).unique()"
   ]
  },
  {
   "cell_type": "code",
   "execution_count": null,
   "metadata": {},
   "outputs": [],
   "source": [
    "js[\n",
    "    (js.symbol == 'CanvasRenderingContext2D.font') &\n",
    "    (js.script_ps1 != js.top_ps1) & \n",
    "    (js.script_ps1 == 'admicro.vn')\n",
    "].value.apply(lambda x: re.match(font_shorthand, x).group(6)).unique()"
   ]
  }
 ],
 "metadata": {
  "kernelspec": {
   "display_name": "Python 3",
   "language": "python",
   "name": "python3"
  },
  "language_info": {
   "codemirror_mode": {
    "name": "ipython",
    "version": 3
   },
   "file_extension": ".py",
   "mimetype": "text/x-python",
   "name": "python",
   "nbconvert_exporter": "python",
   "pygments_lexer": "ipython3",
   "version": "3.6.4"
  }
 },
 "nbformat": 4,
 "nbformat_minor": 2
}
